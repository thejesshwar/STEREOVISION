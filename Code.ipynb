{
 "cells": [
  {
   "cell_type": "code",
   "id": "a72c1cefcbf74b1b",
   "metadata": {},
   "source": [
    "import cv2\n",
    "import numpy as np\n",
    "import matplotlib.pyplot as plt\n",
    "left_img = cv2.imread('left.png')\n",
    "right_img = cv2.imread('right.png')"
   ],
   "outputs": [],
   "execution_count": null
  },
  {
   "metadata": {},
   "cell_type": "code",
   "source": [
    "def compute_disparity_map(left_img, right_img, window_size=5, max_disparity=64):\n",
    "    left_gray = cv2.cvtColor(left_img, cv2.COLOR_BGR2GRAY)\n",
    "    right_gray = cv2.cvtColor(right_img, cv2.COLOR_BGR2GRAY)\n",
    "    height, width = left_gray.shape\n",
    "    disparity_map = np.zeros((height, width), np.float32)\n",
    "    for y in range(window_size, height - window_size):\n",
    "        for x in range(window_size, width - window_size):\n",
    "            best_offset = 0\n",
    "            min_sad = float('inf')\n",
    "            left_block = left_gray[y - window_size:y + window_size + 1, x - window_size:x + window_size + 1]\n",
    "            for d in range(max_disparity):\n",
    "                if x - d - window_size < 0:\n",
    "                    continue\n",
    "                right_block = right_gray[y - window_size:y + window_size + 1, x - d - window_size:x - d + window_size + 1]\n",
    "                sad = np.sum(np.abs(left_block.astype(np.float32) - right_block.astype(np.float32)))\n",
    "                if sad < min_sad:\n",
    "                    min_sad = sad\n",
    "                    best_offset = d\n",
    "            disparity_map[y, x] = best_offset\n",
    "    disparity_normalized = cv2.normalize(disparity_map, None, alpha=0, beta=255, norm_type=cv2.NORM_MINMAX)\n",
    "    disparity_normalized = np.uint8(disparity_normalized)\n",
    "    disparity_normalized = 255 - disparity_normalized\n",
    "    return disparity_normalized\n",
    "disparity_map = compute_disparity_map(left_img, right_img)"
   ],
   "id": "9fcd37178c285bcf",
   "outputs": [],
   "execution_count": null
  },
  {
   "metadata": {},
   "cell_type": "code",
   "source": [
    "def generate_depth_heatmap(disparity_map):\n",
    "    heatmap = cv2.applyColorMap(disparity_map, cv2.COLORMAP_JET)\n",
    "    return heatmap\n",
    "depth_heatmap = generate_depth_heatmap(disparity_map)\n",
    "cv2.imwrite('depth.png', depth_heatmap)\n",
    "plt.imshow(depth_heatmap[..., ::-1])\n",
    "plt.axis('off')\n",
    "plt.show()"
   ],
   "id": "70851bcef3085d70",
   "outputs": [],
   "execution_count": null
  }
 ],
 "metadata": {
  "kernelspec": {
   "display_name": "Python 3",
   "language": "python",
   "name": "python3"
  },
  "language_info": {
   "codemirror_mode": {
    "name": "ipython",
    "version": 2
   },
   "file_extension": ".py",
   "mimetype": "text/x-python",
   "name": "python",
   "nbconvert_exporter": "python",
   "pygments_lexer": "ipython2",
   "version": "2.7.6"
  }
 },
 "nbformat": 4,
 "nbformat_minor": 5
}
